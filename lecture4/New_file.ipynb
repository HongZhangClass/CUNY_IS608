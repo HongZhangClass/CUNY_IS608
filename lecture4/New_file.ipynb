{
 "metadata": {
  "name": ""
 },
 "nbformat": 3,
 "nbformat_minor": 0,
 "worksheets": [
  {
   "cells": [
    {
     "cell_type": "code",
     "collapsed": false,
     "input": [
      "import pandas as p"
     ],
     "language": "python",
     "metadata": {},
     "outputs": [],
     "prompt_number": 1
    },
    {
     "cell_type": "markdown",
     "metadata": {},
     "source": [
      "this is a comment"
     ]
    },
    {
     "cell_type": "code",
     "collapsed": false,
     "input": [
      "river_entero = p.read_csv('data/riverkeeper_data_2013.csv')"
     ],
     "language": "python",
     "metadata": {},
     "outputs": [],
     "prompt_number": 2
    },
    {
     "cell_type": "code",
     "collapsed": false,
     "input": [
      "river_entero[-5:]"
     ],
     "language": "python",
     "metadata": {},
     "outputs": [
      {
       "html": [
        "<div style=\"max-height:1000px;max-width:1500px;overflow:auto;\">\n",
        "<table border=\"1\" class=\"dataframe\">\n",
        "  <thead>\n",
        "    <tr style=\"text-align: right;\">\n",
        "      <th></th>\n",
        "      <th>Site</th>\n",
        "      <th>Date</th>\n",
        "      <th>EnteroCount</th>\n",
        "      <th>FourDayRainTotal</th>\n",
        "      <th>SampleCount</th>\n",
        "    </tr>\n",
        "  </thead>\n",
        "  <tbody>\n",
        "    <tr>\n",
        "      <th>3392</th>\n",
        "      <td> Gowanus Canal</td>\n",
        "      <td>  9/6/2007</td>\n",
        "      <td> &lt;10</td>\n",
        "      <td> 0.0</td>\n",
        "      <td> 37</td>\n",
        "    </tr>\n",
        "    <tr>\n",
        "      <th>3393</th>\n",
        "      <td> Gowanus Canal</td>\n",
        "      <td> 8/16/2007</td>\n",
        "      <td>  35</td>\n",
        "      <td> 0.0</td>\n",
        "      <td> 37</td>\n",
        "    </tr>\n",
        "    <tr>\n",
        "      <th>3394</th>\n",
        "      <td> Gowanus Canal</td>\n",
        "      <td> 7/11/2007</td>\n",
        "      <td> 238</td>\n",
        "      <td> 1.0</td>\n",
        "      <td> 37</td>\n",
        "    </tr>\n",
        "    <tr>\n",
        "      <th>3395</th>\n",
        "      <td> Gowanus Canal</td>\n",
        "      <td> 6/18/2007</td>\n",
        "      <td>   6</td>\n",
        "      <td> 0.0</td>\n",
        "      <td> 37</td>\n",
        "    </tr>\n",
        "    <tr>\n",
        "      <th>3396</th>\n",
        "      <td> Gowanus Canal</td>\n",
        "      <td> 6/10/2010</td>\n",
        "      <td> 882</td>\n",
        "      <td> 0.9</td>\n",
        "      <td> 37</td>\n",
        "    </tr>\n",
        "  </tbody>\n",
        "</table>\n",
        "</div>"
       ],
       "metadata": {},
       "output_type": "pyout",
       "prompt_number": 6,
       "text": [
        "               Site       Date EnteroCount  FourDayRainTotal  SampleCount\n",
        "3392  Gowanus Canal   9/6/2007         <10               0.0           37\n",
        "3393  Gowanus Canal  8/16/2007          35               0.0           37\n",
        "3394  Gowanus Canal  7/11/2007         238               1.0           37\n",
        "3395  Gowanus Canal  6/18/2007           6               0.0           37\n",
        "3396  Gowanus Canal  6/10/2010         882               0.9           37"
       ]
      }
     ],
     "prompt_number": 6
    },
    {
     "cell_type": "code",
     "collapsed": false,
     "input": [],
     "language": "python",
     "metadata": {},
     "outputs": []
    }
   ],
   "metadata": {}
  }
 ]
}